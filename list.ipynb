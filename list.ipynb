{
 "cells": [
  {
   "cell_type": "markdown",
   "metadata": {},
   "source": [
    "### https://wikidocs.net/14\n",
    "1. 리스트는 어떻게 만들고 사용할까?\n",
    "2. 리스트의 인덱싱과 슬라이싱\n",
    "    1. 리스트의 인덱싱\n",
    "    2. 리스트의 슬라이싱\n",
    "3. 리스트 연산하기\n",
    "    1. 리스트 더하기(+)\n",
    "    2. 리스트 반복하기(*)\n",
    "    3. 리스트 길이 구하기\n",
    "4. 리스트의 수정과 삭제\n",
    "    1. 리스트의 값 수정하기\n",
    "    2. del 함수를 사용해 리스트 요소 삭제하기\n",
    "5. 리스트 관련 함수\n",
    "    1. 리스트에 요소 추가하기 - append\n",
    "    2. 리스트 정렬 - sort\n",
    "    3. 리스트 뒤집기 - reverse\n",
    "    4. 인덱스 반환 - index\n",
    "    5. 리스트에 요소 삽입 - insert\n",
    "    6. 리스트 요소 제거 - remove\n",
    "    7. 리스트 요소 끄집어 내기 - pop\n",
    "    8. 리스트에 포함된 요소 x의 개수 세기 - count\n",
    "    9. 리스트 확장 - extend"
   ]
  },
  {
   "cell_type": "code",
   "execution_count": null,
   "metadata": {},
   "outputs": [
    {
     "name": "stdout",
     "output_type": "stream",
     "text": [
      "<class 'list'>\n",
      "[3, 22, 5]\n",
      "<class 'list'>\n",
      "22\n",
      "a\n",
      "[3, 22, 5, ['a', 'b', 'c']]\n",
      "[3, 22, 5, 100]\n",
      "[100, 5, 22, 3]\n",
      "3\n",
      "[100, 5, 22, 10000, 3]\n",
      "10000\n",
      "[100, 22, 1, 2]\n"
     ]
    }
   ],
   "source": [
    "a=list()\n",
    "print(type(a))\n",
    "a.append(3)\n",
    "# 2개이상의 요소를 넣고 싶다면 extend()사용\n",
    "a.extend([22,5])\n",
    "print(a)\n",
    "# print(type(b))\n",
    "# 2개이상의 요소를 넣고 싶다면 extend()사용\n",
    "\n",
    "#a=[1,2,3]\n",
    "#print(a)\n",
    "print(a[-2])\n",
    "a.extend([['a', 'b', 'c']])\n",
    "print(a[-1][0])\n",
    "print(a)\n",
    "a[3]=100\n",
    "print(a)\n",
    "len(a)\n",
    "a.reverse()\n",
    "print(a)\n",
    "print(a.index(3))\n",
    "a.insert(3,10000)\n",
    "print(a)\n",
    "a.remove(5)\n",
    "print(a.pop(2))\n",
    "a.pop()\n",
    "a += [1,2]\n",
    "print(a)"
   ]
  }
 ],
 "metadata": {
  "kernelspec": {
   "display_name": "py3",
   "language": "python",
   "name": "python3"
  },
  "language_info": {
   "codemirror_mode": {
    "name": "ipython",
    "version": 3
   },
   "file_extension": ".py",
   "mimetype": "text/x-python",
   "name": "python",
   "nbconvert_exporter": "python",
   "pygments_lexer": "ipython3",
   "version": "3.13.2"
  }
 },
 "nbformat": 4,
 "nbformat_minor": 2
}
