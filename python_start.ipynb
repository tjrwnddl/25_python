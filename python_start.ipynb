{
 "cells": [
  {
   "cell_type": "code",
   "execution_count": 2,
   "metadata": {},
   "outputs": [
    {
     "name": "stdout",
     "output_type": "stream",
     "text": [
      "test\n",
      "3\n"
     ]
    }
   ],
   "source": [
    "print(\"test\")\n",
    "a=1\n",
    "b=2\n",
    "print(a+b)"
   ]
  },
  {
   "cell_type": "code",
   "execution_count": 1,
   "metadata": {},
   "outputs": [
    {
     "name": "stdout",
     "output_type": "stream",
     "text": [
      "1부터 100 사이의 숫자를 맞춰보세요!\n",
      "너무 낮습니다! 다시 시도하세요.\n",
      "너무 낮습니다! 다시 시도하세요.\n",
      "너무 낮습니다! 다시 시도하세요.\n",
      "너무 낮습니다! 다시 시도하세요.\n",
      "너무 낮습니다! 다시 시도하세요.\n",
      "너무 낮습니다! 다시 시도하세요.\n",
      "너무 낮습니다! 다시 시도하세요.\n",
      "축하합니다! 8번 만에 숫자를 맞추셨습니다.\n"
     ]
    }
   ],
   "source": [
    "import random\n",
    "\n",
    "# 1부터 100 사이의 무작위 숫자 생성\n",
    "secret_number = random.randint(1, 100)\n",
    "\n",
    "attempts = 0\n",
    "\n",
    "print(\"1부터 100 사이의 숫자를 맞춰보세요!\")\n",
    "\n",
    "while True:\n",
    "    guess = int(input(\"숫자를 입력하세요: \"))\n",
    "    attempts += 1\n",
    "\n",
    "    if guess < secret_number:\n",
    "        print(\"너무 낮습니다! 다시 시도하세요.\")\n",
    "    elif guess > secret_number:\n",
    "        print(\"너무 높습니다! 다시 시도하세요.\")\n",
    "    else:\n",
    "        print(f\"축하합니다! {attempts}번 만에 숫자를 맞추셨습니다.\")\n",
    "        break\n",
    "        "
   ]
  },
  {
   "cell_type": "code",
   "execution_count": 2,
   "metadata": {},
   "outputs": [
    {
     "name": "stdout",
     "output_type": "stream",
     "text": [
      "a는 1보다 작아요요\n",
      "1\n",
      "2\n",
      "3\n",
      "1\n",
      "2\n",
      "3\n",
      "4\n",
      "5\n",
      "### 함수\n"
     ]
    },
    {
     "data": {
      "text/plain": [
       "int"
      ]
     },
     "execution_count": 2,
     "metadata": {},
     "output_type": "execute_result"
    }
   ],
   "source": [
    "## 조건문 if\n",
    "a=0.5\n",
    "if a > 1:\n",
    "    print(\"a는 1보다 커요\")\n",
    "else:\n",
    "    print(\"a는 1보다 작아요요\")\n",
    "\n",
    "## 반복문\n",
    "for a in [1,2,3]:\n",
    "    print(a)\n",
    "\n",
    "### 반복문 while\n",
    "i=0\n",
    "while i < 5:\n",
    "    i=i+1\n",
    "    print(i)\n",
    "\n",
    "print(\"### 함수\")\n",
    "def add(a,b):\n",
    "    return a+b\n",
    "\n",
    "type(add(5,3))"
   ]
  },
  {
   "cell_type": "code",
   "execution_count": 2,
   "metadata": {},
   "outputs": [
    {
     "name": "stdout",
     "output_type": "stream",
     "text": [
      "<class 'int'>\n",
      "<class 'float'>\n",
      "127\n"
     ]
    }
   ],
   "source": [
    "### 자료형 관련 연구\n",
    "# 정수형이란 말그대로 정수를 뜻하는 자료형!! 양수, 음수, 0\n",
    "a=123\n",
    "b=-123\n",
    "c=0\n",
    "print(type(a))\n",
    "type(b)\n",
    "type(c)\n",
    "\n",
    "# 실수형\n",
    "a=3.14\n",
    "b=-3.14\n",
    "imsi=type(a)\n",
    "print(imsi)\n",
    "type(b)\n",
    "\n",
    "## 8진수 16진수\n",
    "a=0o177\n",
    "print(a)"
   ]
  },
  {
   "cell_type": "code",
   "execution_count": 18,
   "metadata": {},
   "outputs": [
    {
     "name": "stdout",
     "output_type": "stream",
     "text": [
      "16\n",
      "-2\n",
      "63\n",
      "정수형태로 표현 : 0\n",
      "40353607\n",
      "81\n",
      "2\n",
      "1\n",
      "16\n"
     ]
    }
   ],
   "source": [
    "## 사칙연산\n",
    "a=7\n",
    "b=9\n",
    "r_plus=a+b\n",
    "r_minus=a-b\n",
    "r_multiple=a*b\n",
    "r_divine=a/b\n",
    "r_squared=a**b\n",
    "\n",
    "\n",
    "print(r_plus)\n",
    "print(r_minus)\n",
    "print(r_multiple)\n",
    "print(\"정수형태로 표현 : \" + str(int(r_divine)))\n",
    "print(r_squared)\n",
    "print(3*3*3*3)\n",
    "\n",
    "## 나머지 리턴 %\n",
    "print(b%a)\n",
    "\n",
    "## 몫을 리턴 //\n",
    "print(b//a)\n",
    "\n",
    "## 복합연산자\n",
    "a=a+1\n",
    "a += 1\n",
    "a -= 1\n",
    "a *= 2\n",
    "print(a)"
   ]
  },
  {
   "cell_type": "markdown",
   "metadata": {},
   "source": [
    "# 문자열 자료형!!\n",
    "문자열(string)이란 연속된 문자들의 나열을 말함.  \n",
    "\"Life is too short, You need Python\"  \n",
    "\"a\"  \n",
    "\"123\" ## 문자열은 \"\"안에 쓴다.  \n",
    "\n",
    "\n",
    "# 문자열 길이 구하기 함수\n",
    "len()"
   ]
  },
  {
   "cell_type": "code",
   "execution_count": 28,
   "metadata": {},
   "outputs": [
    {
     "name": "stdout",
     "output_type": "stream",
     "text": [
      "python is said \"so easy\"\n",
      "\n",
      "life\n",
      "sytle\tlife\u0007 beep\n",
      "is\n",
      "\n"
     ]
    }
   ],
   "source": [
    "food = \"python is said \\\"so easy\\\"\"\n",
    "print(food)\n",
    "\n",
    "multiline='''\n",
    "life\\nsytle\\tlife\\a beep\n",
    "is\n",
    "'''\n",
    "print(multiline)"
   ]
  },
  {
   "cell_type": "markdown",
   "metadata": {},
   "source": [
    "#문자열 인덱싱 과 슬라이싱\n",
    "> a = \"Life is too short, You need Python\"  \n",
    "\n",
    "Life is too short, You need Python\n",
    "0부터 33번까까지\n",
    "뒤는 -1 부터 시작\n",
    "\n",
    "\n"
   ]
  },
  {
   "cell_type": "code",
   "execution_count": 1,
   "metadata": {},
   "outputs": [
    {
     "name": "stdout",
     "output_type": "stream",
     "text": [
      "n\n",
      "L\n",
      "ife\n",
      "Life is too short, You need Python\n",
      "Lifes are too short, You need Python\n"
     ]
    },
    {
     "data": {
      "text/plain": [
       "str"
      ]
     },
     "execution_count": 1,
     "metadata": {},
     "output_type": "execute_result"
    }
   ],
   "source": [
    "a = \"Life is too short, You need Python\"\n",
    "print(a[-1])\n",
    "print(a[0])\n",
    "print(a[1:4])\n",
    "re_a=a[0:4] + 's are' + a[7:]\n",
    "\n",
    "print(a)\n",
    "print(re_a)\n",
    "\n",
    "type(a)\n",
    "type(re_a)\n",
    "\n",
    "\n"
   ]
  },
  {
   "cell_type": "markdown",
   "metadata": {},
   "source": [
    "# 문자열 포메팅\n",
    "https://wikidocs.net/13"
   ]
  },
  {
   "cell_type": "code",
   "execution_count": null,
   "metadata": {},
   "outputs": [
    {
     "name": "stdout",
     "output_type": "stream",
     "text": [
      "Error is 98%.\n",
      "        hi\n",
      "hi         jane.\n"
     ]
    }
   ],
   "source": [
    "## 포매팅할때 %를 사용하여 값을 입력한다. 아래 보이는 예문은 98숫자를 %d에 넣는것인데 %를표현할때는 %%를 넣는다.\n",
    "print(\"Error is %d%%.\" % 98)\n",
    "\n",
    "# 1. 정렬과 공백\n",
    "print(\"%10s\" % \"hi\")\n",
    "print(\"%-10s jane.\" % 'hi')"
   ]
  },
  {
   "cell_type": "code",
   "execution_count": 18,
   "metadata": {},
   "outputs": [
    {
     "name": "stdout",
     "output_type": "stream",
     "text": [
      "3.4213\n",
      "      3.4213\n",
      "3.4213\n"
     ]
    }
   ],
   "source": [
    "#2. 소수점 표현하기\n",
    "print(\"%0.4f\" % 3.42134234)\n",
    "print(\"%12.4f\" % 3.42134234)\n",
    "print(\"%.4f\" % 3.42134234) # 위와 같은 표현이다."
   ]
  },
  {
   "cell_type": "code",
   "execution_count": null,
   "metadata": {},
   "outputs": [
    {
     "name": "stdout",
     "output_type": "stream",
     "text": [
      "ten\n",
      "I eat 3 apples\n",
      "I ate ten apples. so I was sick for 3 days.\n",
      "I ate ten apples. so I was sick for 2025-03-08 days.\n",
      "I ate 10 apples. so I was sick for 3 days.\n",
      "I ate 10 apples. so I was sick for 3 days.\n",
      "songsj ate 10 apples.\n",
      "this is format songsj              \n",
      "this is format               songsj\n",
      "##############songsj\n",
      "this is format        songsj       \n",
      "{and} TEST ㅎㅎ\n",
      "나의 이름은 홍길동이고 나이는 30이다.\n"
     ]
    }
   ],
   "source": [
    "## format함수를 사용한 포매팅\n",
    "# 숫자 바로 대입하기\n",
    "# 변수 선언하여 대입하기 및 2개이상의 인덱싱사용하기기\n",
    "number=\"ten\"\n",
    "name=\"songsj\"\n",
    "day=\"2025-03-08\"\n",
    "print(number)\n",
    "print(\"I eat {0} apples\".format(3))\n",
    "print(\"I ate {0} apples. so I was sick for {1} days.\".format(number,3 ,day))\n",
    "\n",
    "#인덱스를 변수를 지정하고 format함수에서 변수 값을 지정하도록 한다. 으로 바로 입력하기도한다.\n",
    "#{0} 번호 인덱스 주는것을 Position placeholder\n",
    "#{num} 이라고 사용하는것을 named placeholder라고 부른다.\n",
    "# num은 변수와는 다르다.\n",
    "print(\"I ate {num} apples. so I was sick for {days} days.\".format(num=number, days=day))\n",
    "\n",
    "## 인덱스와 혼용해서사용하는것도 가능\n",
    "## 인덱스 값을 주지 않아도 된다.\n",
    "print(\"I ate {0} apples. so I was sick for {day} days.\".format(10, day=3))\n",
    "print(\"I ate {0} apples. so I was sick for {day} days.\".format(10, day=3))\n",
    "\n",
    "\n",
    "apples = 10\n",
    "print(f\"{name} ate {apples} apples.\")\n",
    "\n",
    "#왼쪽정렬\n",
    "print(\"this is format {0:<20}\".format(name))\n",
    "#오른쪽 정렬\n",
    "print(f\"{name:#>20}\")\n",
    "print(\"this is format {0:>20}\".format(name))\n",
    "##중앙정렬\n",
    "print(\"this is format {0:^20}\".format(name))\n",
    "\n",
    "# { 또는 } 문자 표현하기 -- 포매팅문자가 아닌것으로 사용하고자 하면 {{ 또는 }} 사용하면됨\n",
    "print(\"{{and}} {0} ㅎㅎ\".format(\"TEST\"))\n",
    "\n",
    "# 딕셔너리 포매팅\n",
    "\n",
    "d = {'name':'홍길동', 'age':30}\n",
    "try:\n",
    "    print(f\"나의 이름은 {d['name']}이고 나이는 {d['age']}이다.\")\n",
    "except KeyError as e:\n",
    "    print(f\"키가 존재하지 않습니다: {e}\")\n",
    "\n"
   ]
  },
  {
   "cell_type": "code",
   "execution_count": 135,
   "metadata": {},
   "outputs": [
    {
     "name": "stdout",
     "output_type": "stream",
     "text": [
      "난 15,000,000원이 필요해!!\n",
      "난 15,000,000원이 1필요해\n",
      "난 15,000,000원이 1필요해\n",
      "난 15,000,000$$$원이 2 필요해\n"
     ]
    }
   ],
   "source": [
    "youngdon = 15000000\n",
    "print(f\"난 {youngdon:,}원이 필요해!!\")\n",
    "print(\"난 {0:,}원이 {1}필요해\".format(youngdon, 1))\n",
    "print(\"난 {0:,}원이 {1}필요해\".format(youngdon, 1))\n",
    "print(\"난 {0:$<13,}원이 {1} 필요해\".format(youngdon, 2))\n",
    "\n"
   ]
  }
 ],
 "metadata": {
  "kernelspec": {
   "display_name": "py3",
   "language": "python",
   "name": "python3"
  },
  "language_info": {
   "codemirror_mode": {
    "name": "ipython",
    "version": 3
   },
   "file_extension": ".py",
   "mimetype": "text/x-python",
   "name": "python",
   "nbconvert_exporter": "python",
   "pygments_lexer": "ipython3",
   "version": "3.13.2"
  }
 },
 "nbformat": 4,
 "nbformat_minor": 2
}
