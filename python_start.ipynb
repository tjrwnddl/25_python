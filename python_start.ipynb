{
 "cells": [
  {
   "cell_type": "code",
   "execution_count": 2,
   "metadata": {},
   "outputs": [
    {
     "name": "stdout",
     "output_type": "stream",
     "text": [
      "test\n",
      "3\n"
     ]
    }
   ],
   "source": [
    "print(\"test\")\n",
    "a=1\n",
    "b=2\n",
    "print(a+b)"
   ]
  },
  {
   "cell_type": "code",
   "execution_count": 1,
   "metadata": {},
   "outputs": [
    {
     "name": "stdout",
     "output_type": "stream",
     "text": [
      "1부터 100 사이의 숫자를 맞춰보세요!\n",
      "너무 높습니다! 다시 시도하세요.\n",
      "너무 낮습니다! 다시 시도하세요.\n",
      "너무 낮습니다! 다시 시도하세요.\n",
      "너무 낮습니다! 다시 시도하세요.\n",
      "너무 낮습니다! 다시 시도하세요.\n",
      "너무 낮습니다! 다시 시도하세요.\n",
      "너무 낮습니다! 다시 시도하세요.\n",
      "너무 낮습니다! 다시 시도하세요.\n",
      "너무 낮습니다! 다시 시도하세요.\n",
      "너무 낮습니다! 다시 시도하세요.\n",
      "너무 낮습니다! 다시 시도하세요.\n",
      "너무 낮습니다! 다시 시도하세요.\n",
      "너무 낮습니다! 다시 시도하세요.\n",
      "너무 낮습니다! 다시 시도하세요.\n",
      "너무 낮습니다! 다시 시도하세요.\n",
      "너무 높습니다! 다시 시도하세요.\n",
      "너무 낮습니다! 다시 시도하세요.\n",
      "너무 낮습니다! 다시 시도하세요.\n",
      "너무 높습니다! 다시 시도하세요.\n",
      "너무 높습니다! 다시 시도하세요.\n",
      "축하합니다! 21번 만에 숫자를 맞추셨습니다.\n"
     ]
    }
   ],
   "source": [
    "import random\n",
    "\n",
    "# 1부터 100 사이의 무작위 숫자 생성\n",
    "secret_number = random.randint(1, 100)\n",
    "\n",
    "attempts = 0\n",
    "\n",
    "print(\"1부터 100 사이의 숫자를 맞춰보세요!\")\n",
    "\n",
    "while True:\n",
    "    guess = int(input(\"숫자를 입력하세요: \"))\n",
    "    attempts += 1\n",
    "\n",
    "    if guess < secret_number:\n",
    "        print(\"너무 낮습니다! 다시 시도하세요.\")\n",
    "    elif guess > secret_number:\n",
    "        print(\"너무 높습니다! 다시 시도하세요.\")\n",
    "    else:\n",
    "        print(f\"축하합니다! {attempts}번 만에 숫자를 맞추셨습니다.\")\n",
    "        break\n",
    "        "
   ]
  },
  {
   "cell_type": "code",
   "execution_count": 4,
   "metadata": {},
   "outputs": [
    {
     "name": "stdout",
     "output_type": "stream",
     "text": [
      "a는 1보다 작아요요\n",
      "1\n",
      "2\n",
      "3\n",
      "1\n",
      "2\n",
      "3\n",
      "4\n",
      "5\n",
      "### 함수\n"
     ]
    },
    {
     "data": {
      "text/plain": [
       "int"
      ]
     },
     "execution_count": 4,
     "metadata": {},
     "output_type": "execute_result"
    }
   ],
   "source": [
    "## 조건문 if\n",
    "a=0.5\n",
    "if a > 1:\n",
    "    print(\"a는 1보다 커요\")\n",
    "else:\n",
    "    print(\"a는 1보다 작아요요\")\n",
    "\n",
    "## 반복문\n",
    "for a in [1,2,3]:\n",
    "    print(a)\n",
    "\n",
    "### 반복문 while\n",
    "i=0\n",
    "while i < 5:\n",
    "    i=i+1\n",
    "    print(i)\n",
    "\n",
    "print(\"### 함수\")\n",
    "def add(a,b):\n",
    "    return a+b\n",
    "\n",
    "type(add(5,3))"
   ]
  },
  {
   "cell_type": "code",
   "execution_count": 2,
   "metadata": {},
   "outputs": [
    {
     "name": "stdout",
     "output_type": "stream",
     "text": [
      "<class 'int'>\n",
      "<class 'float'>\n",
      "127\n"
     ]
    }
   ],
   "source": [
    "### 자료형 관련 연구\n",
    "# 정수형이란 말그대로 정수를 뜻하는 자료형!! 양수, 음수, 0\n",
    "a=123\n",
    "b=-123\n",
    "c=0\n",
    "print(type(a))\n",
    "type(b)\n",
    "type(c)\n",
    "\n",
    "# 실수형\n",
    "a=3.14\n",
    "b=-3.14\n",
    "imsi=type(a)\n",
    "print(imsi)\n",
    "type(b)\n",
    "\n",
    "## 8진수 16진수\n",
    "a=0o177\n",
    "print(a)"
   ]
  },
  {
   "cell_type": "code",
   "execution_count": 18,
   "metadata": {},
   "outputs": [
    {
     "name": "stdout",
     "output_type": "stream",
     "text": [
      "16\n",
      "-2\n",
      "63\n",
      "정수형태로 표현 : 0\n",
      "40353607\n",
      "81\n",
      "2\n",
      "1\n",
      "16\n"
     ]
    }
   ],
   "source": [
    "## 사칙연산\n",
    "a=7\n",
    "b=9\n",
    "r_plus=a+b\n",
    "r_minus=a-b\n",
    "r_multiple=a*b\n",
    "r_divine=a/b\n",
    "r_squared=a**b\n",
    "\n",
    "\n",
    "print(r_plus)\n",
    "print(r_minus)\n",
    "print(r_multiple)\n",
    "print(\"정수형태로 표현 : \" + str(int(r_divine)))\n",
    "print(r_squared)\n",
    "print(3*3*3*3)\n",
    "\n",
    "## 나머지 리턴 %\n",
    "print(b%a)\n",
    "\n",
    "## 몫을 리턴 //\n",
    "print(b//a)\n",
    "\n",
    "## 복합연산자\n",
    "a=a+1\n",
    "a += 1\n",
    "a -= 1\n",
    "a *= 2\n",
    "print(a)"
   ]
  },
  {
   "cell_type": "markdown",
   "metadata": {},
   "source": [
    "# 문자열 자료형!!\n",
    "> 문자열(string)이란 연속된 문자들의 나열을 말함.\n",
    "> \"Life is too short, You need Python\"\n",
    "> \"a\"\n",
    "> \"123\" ## 문자열은 \"\"안에 쓴다.\n",
    "\n",
    "\n"
   ]
  },
  {
   "cell_type": "code",
   "execution_count": null,
   "metadata": {},
   "outputs": [],
   "source": [
    "## "
   ]
  }
 ],
 "metadata": {
  "kernelspec": {
   "display_name": "Python 3",
   "language": "python",
   "name": "python3"
  },
  "language_info": {
   "codemirror_mode": {
    "name": "ipython",
    "version": 3
   },
   "file_extension": ".py",
   "mimetype": "text/x-python",
   "name": "python",
   "nbconvert_exporter": "python",
   "pygments_lexer": "ipython3",
   "version": "3.12.6"
  }
 },
 "nbformat": 4,
 "nbformat_minor": 2
}
