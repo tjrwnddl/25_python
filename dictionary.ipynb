{
 "cells": [
  {
   "cell_type": "markdown",
   "metadata": {},
   "source": [
    "# https://wikidocs.net/16\n",
    "\n",
    "1. 딕셔너리란?\n",
    "2. 딕셔너리는 어떻게 만들까?\n",
    "3. 딕셔너리 쌍 추가, 삭제하기\n",
    "    1. 딕셔너리 쌍 추가하기\n",
    "    2. 딕셔너리 요소 삭제하기\n",
    "4. 딕셔너리를 사용하는 방법\n",
    "    1. 딕셔너리에서 Key를 사용해 Value 얻기\n",
    "    2. 딕셔너리 만들 때 주의할 사항\n",
    "5. 딕셔너리 관련 함수\n",
    "    1. Key 리스트 만들기 - keys\n",
    "    2. Value 리스트 만들기 - values\n",
    "    3. Key, Value 쌍 얻기 - items\n",
    "    4. Key: Value 쌍 모두 지우기 - clear\n",
    "    5. Key로 Value 얻기 - get\n",
    "    6. 해당 Key가 딕셔너리 안에 있는지 조사하기 - in"
   ]
  },
  {
   "cell_type": "code",
   "execution_count": 54,
   "metadata": {},
   "outputs": [
    {
     "name": "stdout",
     "output_type": "stream",
     "text": [
      "{1: 'a', 'name': 'pey'}\n",
      "pey\n",
      "{1: 'a', 'name': 'pey', 3: [1, 2, 3], 4: 12}\n",
      "<class 'int'>\n",
      "{1: 'a', 'name': 'pey', 3: [1, 2, 3]}\n",
      "{'송석중': '수원대학교', '이미영': '순천향대학교', '송재한': '서울대학교'}\n"
     ]
    },
    {
     "data": {
      "text/plain": [
       "'수원대학교'"
      ]
     },
     "execution_count": 54,
     "metadata": {},
     "output_type": "execute_result"
    }
   ],
   "source": [
    "a={1:'a'}\n",
    "a['name'] = 'pey'\n",
    "print(a)\n",
    "print(a['name'])\n",
    "#{1: 'a', 2: 'b', 'name': 'pey'}\n",
    "a[3]=[1,2,3]\n",
    "a[4]=12\n",
    "print(a)\n",
    "print(type(a[4]))\n",
    "\n",
    "## 딕셔너리 요소 삭제\n",
    "del a[4]\n",
    "print(a)\n",
    "fav={'송석중': '수원대학교', '이미영': '순천향대학교', '송재한': '서울대학교'}\n",
    "print(fav)\n",
    "#print(fav['송재한'])\n",
    "#print(fav['송석중'])\n",
    "fav.get('이f영','test')\n",
    "a.keys()\n",
    "fav.get('송석중')\n",
    "#a.get(1234, 'nok')\n",
    "#딕셔너리에 키 있는 지 확인!\n",
    "#'송석자' in fav"
   ]
  }
 ],
 "metadata": {
  "kernelspec": {
   "display_name": "py3",
   "language": "python",
   "name": "python3"
  },
  "language_info": {
   "codemirror_mode": {
    "name": "ipython",
    "version": 3
   },
   "file_extension": ".py",
   "mimetype": "text/x-python",
   "name": "python",
   "nbconvert_exporter": "python",
   "pygments_lexer": "ipython3",
   "version": "3.13.2"
  }
 },
 "nbformat": 4,
 "nbformat_minor": 2
}
