{
 "cells": [
  {
   "cell_type": "markdown",
   "metadata": {},
   "source": [
    "https://wikidocs.net/15\n",
    "1. 튜플은 어떻게 만들까?\n",
    "2. 튜플의 요솟값을 지우거나 변경하려고 하면 어떻게 될까?\n",
    "    1. 튜플 요솟값을 삭제하려 할 때\n",
    "    2. 튜플 요솟값을 변경하려 할 때\n",
    "3. 튜플 다루기\n",
    "    1. 인덱싱하기\n",
    "    2. 슬라이싱하기\n",
    "    3. 튜플 더하기\n",
    "    4. 튜플 곱하기\n",
    "    5. 튜플 길이 구하기\n",
    "\n",
    "##### 리스트와 튜플의 차이점은 mutable한지 immuntable한지 이다. 리스트는 mutable하고 튜플은 immutable하다.\n",
    "##### 값이 많이 변하면 리스트 값이 안변하면 튜플 일반적으로 리스트를 더 많이 사용한다.\n",
    "> 튜플은 요솟값을 변경할수 없기 때문에 sort, insert, remove, pop과 같은 내장 함수가 없다.\n"
   ]
  },
  {
   "cell_type": "code",
   "execution_count": null,
   "metadata": {},
   "outputs": [
    {
     "name": "stdout",
     "output_type": "stream",
     "text": [
      "2\n",
      "2\n",
      "b\n",
      "(1, 2, 'a', 'b', 3, 4)\n"
     ]
    }
   ],
   "source": [
    "## 튜플의 표현식\n",
    "t1 = (1,2,3,4,5)\n",
    "print(t1[1])\n",
    "#del t1[0] ## 튜플은 immutable하기때문에 삭제가 불가하다.\n",
    "\n",
    "## 튜플 요소값을 변경하려 할때 안되겠지!!? 오류 무조건 난다.\n",
    "# t1[1]=5 아래는 결과\n",
    "\"\"\"\n",
    "---------------------------------------------------------------------------\n",
    "TypeError                                 Traceback (most recent call last)\n",
    "Cell In[5], line 7\n",
    "      3 print(t1[1])\n",
    "      4 #del t1[0] ## 튜플은 immutable하기때문에 삭제가 불가하다.\n",
    "      5 \n",
    "      6 ## 튜플 요소값을 변경하려 할때 안되겠지!!?\n",
    "----> 7 t1[1]=5\n",
    "\n",
    "TypeError: 'tuple' object does not support item assignment\n",
    "\"\"\"\n",
    "\n",
    "#튜플 다루기 인덱싱 가능\n",
    "t1=(1,2,'a','b')\n",
    "t2=(3,4)\n",
    "print(t1[1])\n",
    "print(t1[3])\n",
    "print(t1+t2)\n",
    "\n"
   ]
  }
 ],
 "metadata": {
  "kernelspec": {
   "display_name": "py3",
   "language": "python",
   "name": "python3"
  },
  "language_info": {
   "codemirror_mode": {
    "name": "ipython",
    "version": 3
   },
   "file_extension": ".py",
   "mimetype": "text/x-python",
   "name": "python",
   "nbconvert_exporter": "python",
   "pygments_lexer": "ipython3",
   "version": "3.13.2"
  }
 },
 "nbformat": 4,
 "nbformat_minor": 2
}
