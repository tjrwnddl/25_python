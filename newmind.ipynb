{
 "cells": [
  {
   "cell_type": "code",
   "execution_count": 2,
   "metadata": {},
   "outputs": [
    {
     "name": "stdout",
     "output_type": "stream",
     "text": [
      "test\n",
      "3\n"
     ]
    }
   ],
   "source": [
    "print(\"test\")\n",
    "a=1\n",
    "b=2\n",
    "print(a+b)"
   ]
  },
  {
   "cell_type": "code",
   "execution_count": 11,
   "metadata": {},
   "outputs": [
    {
     "name": "stdout",
     "output_type": "stream",
     "text": [
      "a는 1보다 커요\n",
      "1\n",
      "2\n",
      "3\n",
      "1\n",
      "2\n",
      "3\n",
      "4\n",
      "5\n",
      "### 함수\n"
     ]
    },
    {
     "data": {
      "text/plain": [
       "int"
      ]
     },
     "execution_count": 11,
     "metadata": {},
     "output_type": "execute_result"
    }
   ],
   "source": [
    "## 조건문 if\n",
    "a=3\n",
    "if a > 1:\n",
    "    print(\"a는 1보다 커요\")\n",
    "## 반복문\n",
    "for a in [1,2,3]:\n",
    "    print(a)\n",
    "\n",
    "### 반복문 while\n",
    "i=0\n",
    "while i < 5:\n",
    "    i=i+1\n",
    "    print(i)\n",
    "\n",
    "print(\"### 함수\")\n",
    "def add(a,b):\n",
    "    return a+b\n",
    "\n",
    "type(add(5,3))"
   ]
  },
  {
   "cell_type": "code",
   "execution_count": 21,
   "metadata": {},
   "outputs": [
    {
     "name": "stdout",
     "output_type": "stream",
     "text": [
      "<class 'int'>\n",
      "<class 'float'>\n",
      "127\n"
     ]
    }
   ],
   "source": [
    "### 자료형 관련 연구\n",
    "# 정수형이란 말그대로 정수를 뜻하는 자료형!! 양수, 음수, 0\n",
    "a=123\n",
    "b=-123\n",
    "c=0\n",
    "print(type(a))\n",
    "type(b)\n",
    "type(c)\n",
    "\n",
    "# 실수형\n",
    "a=3.14\n",
    "b=-3.14\n",
    "imsi=type(a)\n",
    "print(imsi)\n",
    "type(b)\n",
    "\n",
    "## 8진수 16진수\n",
    "a=0o177\n",
    "print(a)"
   ]
  }
 ],
 "metadata": {
  "kernelspec": {
   "display_name": "Python 3",
   "language": "python",
   "name": "python3"
  },
  "language_info": {
   "codemirror_mode": {
    "name": "ipython",
    "version": 3
   },
   "file_extension": ".py",
   "mimetype": "text/x-python",
   "name": "python",
   "nbconvert_exporter": "python",
   "pygments_lexer": "ipython3",
   "version": "3.12.6"
  }
 },
 "nbformat": 4,
 "nbformat_minor": 2
}
