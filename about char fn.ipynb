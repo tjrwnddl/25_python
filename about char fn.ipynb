{
 "cells": [
  {
   "cell_type": "markdown",
   "metadata": {},
   "source": [
    "#############################################################\n",
    "# 연습일 : 2025년 03월 09일\n",
    "# 문자열 관련함수에 관련된 내용 \n",
    "#############################################################"
   ]
  },
  {
   "cell_type": "code",
   "execution_count": 52,
   "metadata": {},
   "outputs": [],
   "source": [
    "#variable\n",
    "a=\"hobby\"\n",
    "b = \"Python is the best choice\"\n",
    "c=f\"{a:^10}\""
   ]
  },
  {
   "cell_type": "code",
   "execution_count": 68,
   "metadata": {},
   "outputs": [
    {
     "name": "stdout",
     "output_type": "stream",
     "text": [
      "2\n",
      "14\n",
      "-1\n",
      "14\n",
      "a,b,c,d\n",
      "<class 'list'>\n",
      "a,b,c,d\n",
      "HOBBY\n",
      "hobby\n",
      "  hobby   \n",
      "<class 'str'>\n",
      "hobby   hi\n",
      "10\n",
      "  hobbyhi\n",
      "9\n",
      "hobbyhi\n",
      "7\n",
      "Life is t0o short\n",
      "['Life is ', ' short']\n",
      "<class 'list'>\n"
     ]
    }
   ],
   "source": [
    "# 아래는 책에서는 함수로 이야기 하지만 모두 메서드인것으로 확인. \n",
    "# 매서드는 특정 객체느 클래스에 속하고 \n",
    "# 객체의 상태를 자동으로 참조\n",
    "# 객체의 상태 조작 및 관련 작업을 함.\n",
    "# 함수는 독립적으로 사용되는 반면 메서드는 특정 객체나 클래스에 밀접하게 관련되어 있음.\n",
    "# 문자갯수 세기 아래는 b문자 세는것임.\n",
    "print(a.count('b'))\n",
    "\n",
    "# 위치 알려주기 find\n",
    "## find는 없으면 -1를 출력력\n",
    "print(b.find('b'))\n",
    "print(b.find('k'))\n",
    "\n",
    "# 위치 알려주기 index \n",
    "## 인덱스는 없으면 에러를 발생\n",
    "print(b.index('b'))\n",
    "#print(b.index('k'))\n",
    "\n",
    "## 문자열 삽입\n",
    "print(\",\".join('abcd'))\n",
    "test=['a', 'b', 'c', 'd']\n",
    "print(type(test))\n",
    "print(\",\".join(['a', 'b', 'c', 'd']))\n",
    "\n",
    "## 소문자를 대문자로 바꾸기 - upper\n",
    "\n",
    "print(a.upper())\n",
    "#print(upper(a))\n",
    "print(a.upper().lower())\n",
    "\n",
    "## 왼쪽 공백 지우기 c변수\"   hobby    \"임 10자리 임.\n",
    "print(c)\n",
    "print(type(c))\n",
    "#메서드 호출 뒤에 문자열을 연결하려면 + 연산자를 사용\n",
    "print(c.lstrip()+\"hi\")\n",
    "print(len(c.lstrip()+\"hi\"))\n",
    "print(c.rstrip()+\"hi\")\n",
    "print(len(c.rstrip()+\"hi\"))\n",
    "print(c.strip()+\"hi\")\n",
    "print(len(c.strip()+\"hi\"))\n",
    "\n",
    "# 문자열 바꾸기 replace()\n",
    "rep = \"Life is too short\"\n",
    "print(rep.replace(\"o\", \"0\", count=1))\n",
    "\n",
    "## 문자열 나누기\n",
    "print(rep.split('too'))\n",
    "\n",
    "spl=rep.split()\n",
    "print(type(spl))"
   ]
  },
  {
   "cell_type": "code",
   "execution_count": null,
   "metadata": {},
   "outputs": [],
   "source": [
    "    "
   ]
  }
 ],
 "metadata": {
  "kernelspec": {
   "display_name": "py3",
   "language": "python",
   "name": "python3"
  },
  "language_info": {
   "codemirror_mode": {
    "name": "ipython",
    "version": 3
   },
   "file_extension": ".py",
   "mimetype": "text/x-python",
   "name": "python",
   "nbconvert_exporter": "python",
   "pygments_lexer": "ipython3",
   "version": "3.13.2"
  }
 },
 "nbformat": 4,
 "nbformat_minor": 2
}
